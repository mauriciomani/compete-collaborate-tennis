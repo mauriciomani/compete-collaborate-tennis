{
 "cells": [
  {
   "cell_type": "markdown",
   "metadata": {},
   "source": [
    "# Compete and collaborate. \n",
    "## Tennis enviroment."
   ]
  },
  {
   "cell_type": "code",
   "execution_count": 1,
   "metadata": {},
   "outputs": [],
   "source": [
    "from unityagents import UnityEnvironment\n",
    "import numpy as np"
   ]
  },
  {
   "cell_type": "code",
   "execution_count": 2,
   "metadata": {},
   "outputs": [
    {
     "name": "stderr",
     "output_type": "stream",
     "text": [
      "INFO:unityagents:\n",
      "'Academy' started successfully!\n",
      "Unity Academy name: Academy\n",
      "        Number of Brains: 1\n",
      "        Number of External Brains : 1\n",
      "        Lesson number : 0\n",
      "        Reset Parameters :\n",
      "\t\t\n",
      "Unity brain name: TennisBrain\n",
      "        Number of Visual Observations (per agent): 0\n",
      "        Vector Observation space type: continuous\n",
      "        Vector Observation space size (per agent): 8\n",
      "        Number of stacked Vector Observation: 3\n",
      "        Vector Action space type: continuous\n",
      "        Vector Action space size (per agent): 2\n",
      "        Vector Action descriptions: , \n"
     ]
    }
   ],
   "source": [
    "#local test \n",
    "env = UnityEnvironment(file_name=\"Tennis_Linux/Tennis.x86_64\")\n",
    "#udacity enviroment\n",
    "#env = UnityEnvironment(file_name=\"/data/Tennis_Linux_NoVis/Tennis\")"
   ]
  },
  {
   "cell_type": "code",
   "execution_count": 3,
   "metadata": {},
   "outputs": [],
   "source": [
    "import random\n",
    "import copy\n",
    "import torch\n",
    "import torch.nn as nn\n",
    "import torch.nn.functional as F\n",
    "import torch.optim as optim\n",
    "from collections import namedtuple, deque\n",
    "import matplotlib.pyplot as plt\n",
    "import time\n",
    "from model import Network\n",
    "\n",
    "device = torch.device(\"cuda:0\" if torch.cuda.is_available() else \"cpu\")"
   ]
  },
  {
   "cell_type": "markdown",
   "metadata": {},
   "source": [
    "Environments contain **_brains_** which are responsible for deciding the actions of their associated agents. Here we check for the first brain available, and set it as the default brain we will be controlling from Python."
   ]
  },
  {
   "cell_type": "code",
   "execution_count": 4,
   "metadata": {},
   "outputs": [],
   "source": [
    "brain_name = env.brain_names[0]\n",
    "brain = env.brains[brain_name]"
   ]
  },
  {
   "cell_type": "code",
   "execution_count": 5,
   "metadata": {},
   "outputs": [
    {
     "name": "stdout",
     "output_type": "stream",
     "text": [
      "Number of agents: 2\n",
      "Size of each action: 2\n",
      "There are 2 agents. Each observes a state with length: 24\n",
      "The state for the first agent looks like: [ 0.          0.          0.          0.          0.          0.\n",
      "  0.          0.          0.          0.          0.          0.\n",
      "  0.          0.          0.          0.         -6.65278625 -1.5\n",
      " -0.          0.          6.83172083  6.         -0.          0.        ]\n"
     ]
    }
   ],
   "source": [
    "# reset the environment\n",
    "env_info = env.reset(train_mode=True)[brain_name]\n",
    "\n",
    "# number of agents \n",
    "num_agents = len(env_info.agents)\n",
    "print('Number of agents:', num_agents)\n",
    "\n",
    "# size of each action\n",
    "action_size = brain.vector_action_space_size\n",
    "print('Size of each action:', action_size)\n",
    "\n",
    "# examine the state space \n",
    "states = env_info.vector_observations\n",
    "state_size = states.shape[1]\n",
    "print('There are {} agents. Each observes a state with length: {}'.format(states.shape[0], state_size))\n",
    "print('The state for the first agent looks like:', states[0])"
   ]
  },
  {
   "cell_type": "markdown",
   "metadata": {},
   "source": [
    "### Learning Algorithm\n",
    "We are goinng to use shared Replay buffer and Ornstein–Uhlenbeck noise generation on multi agent deep deterministic policy gradient, that is a multi agent actor critic method.\n",
    "We are using similar Architecture for both actor and critic, and all in one Network, 200 units on first hidden layer and 150 units on second hidden layers and an actor-critic variable to define the type. For our actor,the input is our state size and out input is the action space all fully connected uing relu and a tanh in the last layer. While the critic inputs state size and action size for both agents and output one unit only. 3 fully connected layers with 2 relu in the beginning and no activation in the last layer.\n",
    "\n",
    "Hyperparameters are as follows, we are not using Grad_clipping, epsilon and epsilon decay. Tau used on soft update. I have not place here learning number and learning every on the step for learning using 10 and 20 respectively (below cells for the implementation):"
   ]
  },
  {
   "cell_type": "code",
   "execution_count": 6,
   "metadata": {},
   "outputs": [],
   "source": [
    "BUFFER_SIZE = int(1e5)   # replay buffer size\n",
    "BATCH_SIZE = 250         # minibatch size\n",
    "GAMMA = 0.99             # discount factor\n",
    "TAU = 1e-3               # for soft update of target parameters\n",
    "LR_ACTOR = 1e-4          # learning rate of the actor\n",
    "LR_CRITIC = 1e-3         # learning rate of the critic 2539\n",
    "WEIGHT_DECAY = 0.0       # L2 weight decay\n",
    "GRAD_CLIPPING = 1.0\n",
    "EPSILON = 1.0  \n",
    "EPSILON_DECAY = 1e-6"
   ]
  },
  {
   "cell_type": "code",
   "execution_count": 7,
   "metadata": {},
   "outputs": [
    {
     "name": "stdout",
     "output_type": "stream",
     "text": [
      "import torch\n",
      "import torch.nn as nn\n",
      "import torch.nn.functional as F\n",
      "import numpy as np\n",
      "\n",
      "def hidden_init(layer):\n",
      "    \"\"\"Xavier weight inizialization: http://proceedings.mlr.press/v9/glorot10a/glorot10a.pdf\n",
      "    Initizaling weights from a uniform distribution and scaling them\"\"\"\n",
      "    fan_in = layer.weight.data.size()[0]\n",
      "    lim = 1. / np.sqrt(fan_in)\n",
      "    return (-lim, lim)\n",
      "\n",
      "class Network(nn.Module):\n",
      "    def __init__(self, state_size, action_size, fc1_units=200, fc2_units=150, actor=False):\n",
      "        super(Network, self).__init__()\n",
      "\n",
      "        self.seed = torch.manual_seed(12)\n",
      "        self.actor = actor\n",
      "        if self.actor:\n",
      "            self.fc1 = nn.Linear(state_size, fc1_units)\n",
      "        else:\n",
      "            self.fc1 = nn.Linear((state_size+action_size) * 2, fc1_units)\n",
      "        self.fc2 = nn.Linear(fc1_units, fc2_units)\n",
      "        if self.actor:\n",
      "            self.fc3 = nn.Linear(fc2_units, action_size)\n",
      "        else:\n",
      "            self.fc3 = nn.Linear(fc2_units, 1)\n",
      "        self.reset_parameters()\n",
      "\n",
      "    def reset_parameters(self):\n",
      "        self.fc1.weight.data.uniform_(*hidden_init(self.fc1))\n",
      "        self.fc2.weight.data.uniform_(*hidden_init(self.fc2))\n",
      "        self.fc3.weight.data.uniform_(-3e-3, 3e-3)\n",
      "\n",
      "    def forward(self, state, action=None):\n",
      "        if self.actor:\n",
      "            # return a vector of the force\n",
      "            h1 = F.relu(self.fc1(state))\n",
      "\n",
      "            h2 = F.relu(self.fc2(h1))\n",
      "            h3 = F.tanh(self.fc3(h2))\n",
      "            #norm = torch.norm(h3)\n",
      "            \n",
      "            # h3 is a 2D vector (a force that is applied to the agent)\n",
      "            # we bound the norm of the vector to be between 0 and 10\n",
      "            #return 10.0*(f.tanh(norm))*h3/norm if norm > 0 else 10*h3\n",
      "            return(h3)\n",
      "        \n",
      "        else:\n",
      "            xs = torch.cat((state, action), dim=1)\n",
      "            # critic network simply outputs a number\n",
      "            h1 = F.relu(self.fc1(xs))\n",
      "            h2 = F.relu(self.fc2(h1))\n",
      "            h3 = (self.fc3(h2))\n",
      "            return h3"
     ]
    }
   ],
   "source": [
    "! cat model.py"
   ]
  },
  {
   "cell_type": "code",
   "execution_count": 8,
   "metadata": {},
   "outputs": [],
   "source": [
    "class ReplayBuffer:\n",
    "    \"\"\"Store experience tuples.\"\"\"\n",
    "    \n",
    "    def __init__(self, buffer_size, batch_size, seed = 12):\n",
    "        #Deque (Doubly Ended Queue)\n",
    "        self.memory = deque(maxlen=buffer_size) \n",
    "        #size of each training\n",
    "        self.batch_size = batch_size\n",
    "        self.experience = namedtuple(\"Experience\", field_names = [\"state\", \"action\", \"reward\", \"next_state\", \"done\"])\n",
    "        self.seed = random.seed(seed)\n",
    "        \n",
    "    def add(self, state, action, reward, next_state, done):\n",
    "        \"\"\"Add new experience to memory.\"\"\"\n",
    "        e = self.experience(state, action, reward, next_state, done)\n",
    "        self.memory.append(e)\n",
    "        \n",
    "    def sample(self):\n",
    "        \"\"\"Random sample of batch from replay buffer\"\"\"\n",
    "        experiences =  random.sample(self.memory, k=self.batch_size)\n",
    "        \n",
    "        #vstack: Stack arrays in sequence vertically (row wise)\n",
    "        states = [torch.from_numpy(np.vstack([e.state[index] for e in experiences if e is not None])).float().to(device) for index in range(num_agents)]\n",
    "        actions = [torch.from_numpy(np.vstack([e.action[index] for e in experiences if e is not None])).float().to(device) for index in range(num_agents)]\n",
    "        next_states = [torch.from_numpy(np.vstack([e.next_state[index] for e in experiences if e is not None])).float().to(device) for index in range(num_agents)]            \n",
    "        rewards = torch.from_numpy(np.vstack([e.reward for e in experiences if e is not None])).float().to(device)        \n",
    "        dones = torch.from_numpy(np.vstack([e.done for e in experiences if e is not None]).astype(np.uint8)).float().to(device)\n",
    "        return (states, actions, rewards, next_states, dones)\n",
    "    \n",
    "    def __len__(self):\n",
    "        \"\"\"\"Size of internal memory\"\"\"\n",
    "        return len(self.memory)"
   ]
  },
  {
   "cell_type": "code",
   "execution_count": 9,
   "metadata": {},
   "outputs": [],
   "source": [
    "#defining replay buffer outside, so that it can be used by both\n",
    "shared_replay_buffer = ReplayBuffer(BUFFER_SIZE, BATCH_SIZE)"
   ]
  },
  {
   "cell_type": "code",
   "execution_count": 10,
   "metadata": {},
   "outputs": [],
   "source": [
    "class OUNoise:\n",
    "    \"\"\"Ornstein–Uhlenbeck is a mathematical stochastic process, originally from physics. \n",
    "        It is a stationary Gaussian and Markov process. We use it to add noise to the action output\"\"\"\n",
    "\n",
    "    def __init__(self, action_dimension, mu=0, theta=0.15, sigma=0.2):\n",
    "        self.seed = random.seed(12)\n",
    "        self.action_dimension = action_dimension\n",
    "        self.mu = np.ones(self.action_dimension) * mu \n",
    "        self.theta = theta\n",
    "        self.sigma = sigma\n",
    "        self.reset()\n",
    "\n",
    "    def reset(self):\n",
    "        self.state = np.ones(self.action_dimension) * self.mu\n",
    "\n",
    "    def noise(self):\n",
    "        x = self.state\n",
    "        dx = self.theta * (self.mu - x) + self.sigma * np.random.randn(len(x))\n",
    "        self.state = x + dx\n",
    "        return self.state\n",
    "\n",
    "class Agent():\n",
    "    \n",
    "    def __init__(self, state_size, action_size):\n",
    "        self.state_size = state_size\n",
    "        self.action_size = action_size\n",
    "        self.epsilon = EPSILON\n",
    "        \n",
    "        #from model.py\n",
    "        self.actor = Network(state_size, action_size, actor= True).to(device)\n",
    "        self.actor_target = Network(state_size, action_size, actor = True).to(device)\n",
    "        self.actor_optimizer = optim.Adam(self.actor.parameters(),lr=LR_ACTOR)\n",
    "\n",
    "        self.critic = Network(state_size, action_size, actor = False).to(device)\n",
    "        self.critic_target = Network(state_size, action_size, actor = False).to(device)\n",
    "        self.critic_optimizer = optim.Adam(self.critic.parameters(), lr=LR_CRITIC, weight_decay=WEIGHT_DECAY)\n",
    "\n",
    "        # noise processing\n",
    "        self.noise = OUNoise(action_size)\n",
    "        \n",
    "    def soft_update(self, target, source, tau):\n",
    "        \"\"\"\n",
    "        Perform DDPG soft update (move target params toward source based on weight factor tau)\n",
    "        Inputs:\n",
    "        target (torch.nn.Module): Net to copy parameters to\n",
    "        source (torch.nn.Module): Net whose parameters to copy\n",
    "        tau (float, 0 < x < 1): Weight factor for update\n",
    "        \"\"\"\n",
    "        for target_param, param in zip(target.parameters(), source.parameters()):\n",
    "            target_param.data.copy_(target_param.data * (1.0 - tau) + param.data * tau)\n",
    "            \n",
    "    def step(self, timestep):\n",
    "        \"\"\"Save experience in replay buffer, and use sample from buffer to learn: From double-jointed arm.\n",
    "            Add timestep\"\"\"\n",
    "        #use the following, slower to train, faster at each episode\n",
    "        #learning timestep interval is equal to 20\n",
    "        if len(shared_replay_buffer) > BATCH_SIZE and timestep % 20 == 0:\n",
    "            #number of learning passes\n",
    "            for _ in range(10):\n",
    "                experiences = shared_replay_buffer.sample()\n",
    "                self.learn(experiences, GAMMA) \n",
    "    \n",
    "        #if len(shared_replay_buffer) > BATCH_SIZE:\n",
    "        #    experiences = shared_replay_buffer.sample()\n",
    "        #    self.learn(experiences, GAMMA)        \n",
    "\n",
    "    def act(self, state, add_noise=True):\n",
    "        \"\"\"Returns actions for given state as per current policy.\"\"\"\n",
    "        state = torch.from_numpy(state).float().to(device)\n",
    "        self.actor.eval()\n",
    "        with torch.no_grad():\n",
    "            action = self.actor(state).cpu().data.numpy()\n",
    "        self.actor.train()\n",
    "        if add_noise:\n",
    "            action += self.noise.noise() # * self.epsilon\n",
    "        return np.clip(action, -1, 1)\n",
    "\n",
    "    def reset(self):\n",
    "        self.noise.reset()\n",
    "\n",
    "    def learn(self, experiences, gamma):\n",
    "        \"\"\"\n",
    "        Experience is a tuple of states, actions, rewards, next_states, dones\n",
    "        Update policy and value parameters using given batch of experience tuples.\n",
    "        Q_targets = r + γ * critic_target(next_state, actor_target(next_state))\n",
    "        \"\"\"\n",
    "        states, actions, rewards, next_states, dones = experiences\n",
    "                    \n",
    "        #to tensors, otherwise errors\n",
    "        next_states_tensor = torch.cat(next_states, dim=1).to(device)\n",
    "        states_tensor = torch.cat(states, dim=1).to(device)\n",
    "        actions_tensor = torch.cat(actions, dim=1).to(device)\n",
    "        \n",
    "        # use target models\n",
    "        next_actions = [self.actor_target(states) for states in states]        \n",
    "        next_actions_tensor = torch.cat(next_actions, dim=1).to(device)  \n",
    "        #to feed critic we use actor actions\n",
    "        Q_targets_next = self.critic_target(next_states_tensor, next_actions_tensor)        \n",
    "        #Compute Q targets \n",
    "        Q_targets = rewards + (gamma * Q_targets_next * (1 - dones))        \n",
    "        #critic loss\n",
    "        Q_expected = self.critic(states_tensor, actions_tensor)\n",
    "        critic_loss = F.mse_loss(Q_expected, Q_targets)        \n",
    "        self.critic_optimizer.zero_grad()\n",
    "        critic_loss.backward()\n",
    "        #if GRAD_CLIPPING > 0:\n",
    "        #    torch.nn.utils.clip_grad_norm_(self.critic.parameters(), GRAD_CLIPPING)\n",
    "        self.critic_optimizer.step()\n",
    "\n",
    "        #actor\n",
    "        actions_pred = [self.actor(states) for states in states]        \n",
    "        actions_pred_tensor = torch.cat(actions_pred, dim=1).to(device)\n",
    "        actor_loss = -self.critic(states_tensor, actions_pred_tensor).mean()        \n",
    "        self.actor_optimizer.zero_grad()\n",
    "        actor_loss.backward()        \n",
    "        self.actor_optimizer.step()\n",
    "\n",
    "        #soft update\n",
    "        self.soft_update(self.critic_target, self.critic, TAU)\n",
    "        self.soft_update(self.actor_target, self.actor, TAU)\n",
    "        #if EPSILON_DECAY > 0:\n",
    "        #    self.epsilon -= EPSILON_DECAY\n",
    "        #    self.noise.reset()"
   ]
  },
  {
   "cell_type": "code",
   "execution_count": 11,
   "metadata": {},
   "outputs": [],
   "source": [
    "class MADDPG:\n",
    "    \"\"\"Implementation of Multi agent Deep Deterministic Policy Gradient\"\"\"\n",
    "\n",
    "    def __init__(self):\n",
    "        self.agents = [Agent(state_size,action_size) for x in range(num_agents)]\n",
    "\n",
    "    #add timestep if needed\n",
    "    def step(self, states, actions, rewards, next_states, dones, timestep):\n",
    "        shared_replay_buffer.add(states, actions, rewards, next_states, dones)\n",
    "\n",
    "        for agent in self.agents:\n",
    "            agent.step(timestep)\n",
    "    \n",
    "    def act(self, obs_all_agents, add_noise=True):\n",
    "        \"\"\"get actions from all agents in the MADDPG object\"\"\"\n",
    "        actions = [agent.act(obs, add_noise) for agent, obs in zip(self.agents, obs_all_agents)]\n",
    "        return actions\n",
    "\n",
    "    \n",
    "    def reset(self):        \n",
    "        for agent in self.agents:\n",
    "            agent.reset()"
   ]
  },
  {
   "cell_type": "code",
   "execution_count": 13,
   "metadata": {},
   "outputs": [
    {
     "name": "stdout",
     "output_type": "stream",
     "text": [
      "Episode 100(0s)\tAverage score: 0.000\n",
      "Episode 200(0s)\tAverage score: 0.000\n",
      "Episode 300(0s)\tAverage score: 0.000\n",
      "Episode 400(0s)\tAverage score: 0.000\n",
      "Episode 500(0s)\tAverage score: 0.001\n",
      "Episode 600(0s)\tAverage score: 0.001\n",
      "Episode 700(0s)\tAverage score: 0.004\n",
      "Episode 800(0s)\tAverage score: 0.003\n",
      "Episode 900(0s)\tAverage score: 0.019\n",
      "Episode 1000(1s)\tAverage score: 0.033\n",
      "Episode 1100(1s)\tAverage score: 0.064\n",
      "Episode 1200(1s)\tAverage score: 0.095\n",
      "Episode 1300(2s)\tAverage score: 0.137\n",
      "Episode 1400(3s)\tAverage score: 0.237\n",
      "Episode 1500(0s)\tAverage score: 0.415\n",
      "Solved in episode: 1581 \tAverage score: 0.500\n"
     ]
    }
   ],
   "source": [
    "maddpg = MADDPG() \n",
    "\n",
    "scores_deque = deque(maxlen=100)\n",
    "scores = []\n",
    "average_scores_list = []\n",
    "\n",
    "for episode in range(1, 10000):                                    \n",
    "    env_info = env.reset(train_mode=True)[brain_name]     \n",
    "    states = env_info.vector_observations               \n",
    "    score = np.zeros(num_agents)\n",
    "\n",
    "    maddpg.reset()\n",
    "\n",
    "    start_time = time.time()\n",
    "    for t in range(1000):\n",
    "        #for the following implementation add timestep variable as in double-jointed arm\n",
    "        #while True:\n",
    "        actions = maddpg.act(states)\n",
    "        env_info = env.step(actions)[brain_name]            \n",
    "        next_states = env_info.vector_observations\n",
    "        rewards = env_info.rewards         \n",
    "        dones = env_info.local_done                         \n",
    "        maddpg.step(states, actions, rewards, next_states, dones, t)        \n",
    "        states = next_states\n",
    "        score += rewards  \n",
    "\n",
    "        if any(dones):                                 \n",
    "            break\n",
    "\n",
    "    end_time = time.time()\n",
    "    duration = end_time - start_time\n",
    "    \n",
    "    score_max = np.max(score)\n",
    "    scores.append(score_max)\n",
    "    scores_deque.append(score_max)\n",
    "    average_score = np.mean(scores_deque)\n",
    "    average_scores_list.append(average_score)\n",
    "\n",
    "    print('\\rEpisode {}\\tAverage Score: {:.3f}'.format(episode, np.mean(scores_deque)), end=\"\")  \n",
    "\n",
    "    if episode % 100 == 0:\n",
    "        print('\\rEpisode {}({}s)\\tAverage score: {:.3f}'.format(episode, round(duration), average_score))\n",
    "\n",
    "    if average_score >= 0.5:\n",
    "        for index, agent in enumerate(maddpg.agents):\n",
    "            torch.save(agent.actor.state_dict(), 'agent{}_checkpoint_actor.pth'.format(index+1))\n",
    "            torch.save(agent.critic.state_dict(), 'agent{}_checkpoint_critic.pth'.format(index+1))\n",
    "        print(\"\\rSolved in episode: {} \\tAverage score: {:.3f}\".format(episode , average_score))\n",
    "        break"
   ]
  },
  {
   "cell_type": "markdown",
   "metadata": {},
   "source": [
    "#### It took 1581 episodes to solve the tennis problem"
   ]
  },
  {
   "cell_type": "code",
   "execution_count": 16,
   "metadata": {},
   "outputs": [
    {
     "data": {
      "image/png": "[encoded data removed]",
      "text/plain": [
       "<matplotlib.figure.Figure at 0x7f7dd04c64e0>"
      ]
     },
     "metadata": {
      "needs_background": "light"
     },
     "output_type": "display_data"
    }
   ],
   "source": [
    "plt.plot(np.arange(len(scores)), scores)\n",
    "plt.ylabel('Score')\n",
    "plt.xlabel('Number of Episode')\n",
    "plt.title(\"Max scores\")\n",
    "plt.show()"
   ]
  },
  {
   "cell_type": "code",
   "execution_count": 18,
   "metadata": {},
   "outputs": [
    {
     "data": {
      "image/png": "[encoded data removed]",
      "text/plain": [
       "<matplotlib.figure.Figure at 0x7f7d6ae369b0>"
      ]
     },
     "metadata": {
      "needs_background": "light"
     },
     "output_type": "display_data"
    }
   ],
   "source": [
    "plt.plot(np.arange(len(average_scores_list)), average_scores_list)\n",
    "plt.ylabel('Score')\n",
    "plt.xlabel('Number of Episode')\n",
    "plt.title(\"Average scores\")\n",
    "plt.show()"
   ]
  },
  {
   "cell_type": "code",
   "execution_count": 20,
   "metadata": {},
   "outputs": [],
   "source": [
    "#close the enviroment\n",
    "#env.close()"
   ]
  },
  {
   "cell_type": "markdown",
   "metadata": {},
   "source": [
    "### Ideas for future work\n",
    "When making this project I tested different hyperparameters both RL specific and neural network hyperparameters and I found that really important, for example the discount factor and even the seed.In tested different amount of units, ranging from 150 to 200 on the second hidden layer and 250 to 350 on the first, keeping the former value for both. <br>\n",
    "The are other multi agent algorithms such as multi agent DQN and multi agent PPO. Remember that PPO is a proximal policy optimization technique that uses stochastic gradient descent over a sample dataset. For example implementation visit this [repository](https://github.com/jsztompka/MultiAgent-PPO). <br>\n",
    "Definetly I do not recommend using **gradient clipping** with this particular architecture, since I found it not useful at all. Also, implementing learning every time instead on learning every defined timestep, however I found the latter faster on every episode but slower to reach the goal.<br>\n",
    "I would say big changes might come from Network architecture according to Josh Tobin on [Full Stack Deep Learning](https://fullstackdeeplearning.com/) normalizing the layers might be a good idea, as well as testing different activation functions, since I just used relu and tanh. Also, try different Learning rates mine range from 0.01 to 0.00001.\n",
    "From replay buffer, instead of normal sampling method, implement **prioritized experience replay**.<br>\n",
    "It also might be interesting to implement DDGP, TRPO (Trust Region Policy Optimization) or A3C (Asynchronous Actor-Critic), however multi-agent methods might perform better."
   ]
  },
  {
   "cell_type": "markdown",
   "metadata": {},
   "source": [
    "## Test our agents!"
   ]
  },
  {
   "cell_type": "code",
   "execution_count": 22,
   "metadata": {},
   "outputs": [],
   "source": [
    "maddpg = MADDPG() "
   ]
  },
  {
   "cell_type": "code",
   "execution_count": 23,
   "metadata": {},
   "outputs": [],
   "source": [
    "if torch.cuda.is_available():\n",
    "    map_location=lambda storage, loc: storage.cuda()\n",
    "else:\n",
    "    map_location='cpu'\n",
    "\n",
    "maddpg.agents[0].actor.load_state_dict(torch.load('agent1_checkpoint_actor.pth', map_location=map_location))\n",
    "maddpg.agents[1].actor.load_state_dict(torch.load('agent2_checkpoint_actor.pth', map_location=map_location))"
   ]
  },
  {
   "cell_type": "code",
   "execution_count": 24,
   "metadata": {},
   "outputs": [],
   "source": [
    "env_info = env.reset(train_mode=False)[brain_name]\n",
    "states = env_info.vector_observations  # get the current states\n",
    "maddpg.reset()\n",
    "for _ in range(4):\n",
    "    for t in range(3000):\n",
    "        actions = maddpg.act(states)                   # let the agent select actions (don't add noise)\n",
    "        env_info = env.step(actions)[brain_name]      # execute the selected actions and save the new information about the environment\n",
    "        next_states = env_info.vector_observations    # get the resulting states\n",
    "        dones = env_info.local_done                   # check whether episodes have finished\n",
    "        states = next_states\n",
    "        if np.any(dones):\n",
    "            break "
   ]
  },
  {
   "cell_type": "code",
   "execution_count": 25,
   "metadata": {},
   "outputs": [],
   "source": [
    "env.close()"
   ]
  }
 ],
 "metadata": {
  "kernelspec": {
   "display_name": "drlnd",
   "language": "python",
   "name": "drlnd"
  },
  "language_info": {
   "codemirror_mode": {
    "name": "ipython",
    "version": 3
   },
   "file_extension": ".py",
   "mimetype": "text/x-python",
   "name": "python",
   "nbconvert_exporter": "python",
   "pygments_lexer": "ipython3",
   "version": "3.6.10"
  }
 },
 "nbformat": 4,
 "nbformat_minor": 4
}
